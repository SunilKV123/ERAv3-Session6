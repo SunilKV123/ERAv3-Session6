{
  "cells": [
    {
      "cell_type": "markdown",
      "metadata": {
        "id": "CJW0gKmLqbib"
      },
      "source": [
        "# MNIST CNN Training Notebook\n",
        "\n",
        "This notebook implements a CNN model for MNIST digit classification."
      ]
    },
    {
      "cell_type": "code",
      "execution_count": null,
      "metadata": {
        "colab": {
          "base_uri": "https://localhost:8080/"
        },
        "id": "qyuJCU2Mqbie",
        "outputId": "0fb66ee2-5368-4dac-9c4d-21433931e1d3"
      },
      "outputs": [
        {
          "output_type": "stream",
          "name": "stdout",
          "text": [
            "Requirement already satisfied: tqdm in /usr/local/lib/python3.10/dist-packages (4.66.6)\n"
          ]
        }
      ],
      "source": [
        "# Install required packages\n",
        "!pip install tqdm"
      ]
    },
    {
      "cell_type": "code",
      "execution_count": null,
      "metadata": {
        "id": "RYZEIMYNqbif"
      },
      "outputs": [],
      "source": [
        "# Import necessary libraries\n",
        "import torch\n",
        "import torch.nn as nn\n",
        "import torch.optim as optim\n",
        "import torchvision\n",
        "import torchvision.transforms as transforms\n",
        "from torch.utils.data import DataLoader, random_split\n",
        "from tqdm import tqdm\n",
        "import os\n",
        "from datetime import datetime\n",
        "import torch.nn.functional as F"
      ]
    },
    {
      "cell_type": "code",
      "execution_count": null,
      "metadata": {
        "id": "75hMinlwqbih"
      },
      "outputs": [],
      "source": [
        "# Define the CNN model\n",
        "dropout_value = 0.1\n",
        "class MnistCNN(nn.Module):\n",
        "    def __init__(self):\n",
        "        super(MnistCNN, self).__init__()\n",
        "        # Input Block\n",
        "        self.convblock1 = nn.Sequential(\n",
        "            nn.Conv2d(in_channels=1, out_channels=12, kernel_size=(3, 3), padding=1, bias=False),\n",
        "            nn.ReLU(),\n",
        "            nn.BatchNorm2d(12),\n",
        "            nn.Dropout(dropout_value)\n",
        "        )\n",
        "\n",
        "\n",
        "        self.convblock2 = nn.Sequential(\n",
        "            nn.Conv2d(in_channels=12, out_channels=24, kernel_size=(3, 3), padding=0, bias=False),\n",
        "            nn.ReLU(),\n",
        "            nn.BatchNorm2d(24),\n",
        "            nn.Dropout(dropout_value)\n",
        "        )\n",
        "\n",
        "        self.convblock3 = nn.Sequential(\n",
        "            nn.Conv2d(in_channels=24, out_channels=18, kernel_size=(1, 1), padding=0, bias=False),\n",
        "            nn.ReLU()\n",
        "        )\n",
        "        self.pool1 = nn.MaxPool2d(2, 2)\n",
        "\n",
        "        self.convblock4 = nn.Sequential(\n",
        "            nn.Conv2d(in_channels=18, out_channels=24, kernel_size=(3, 3), padding=1, bias=False),\n",
        "            nn.ReLU(),\n",
        "            nn.BatchNorm2d(24),\n",
        "            nn.Dropout(dropout_value)\n",
        "        )\n",
        "\n",
        "        self.convblock41 = nn.Sequential(\n",
        "            nn.Conv2d(in_channels=24, out_channels=24, kernel_size=(3, 3), padding=0, bias=False),\n",
        "            nn.ReLU(),\n",
        "            nn.BatchNorm2d(24),\n",
        "            nn.Dropout(dropout_value)\n",
        "        )\n",
        "\n",
        "        self.convblock42 = nn.Sequential(\n",
        "            nn.Conv2d(in_channels=24, out_channels=18, kernel_size=(3, 3), padding=0, bias=False),\n",
        "            nn.ReLU(),\n",
        "            nn.BatchNorm2d(18),\n",
        "            nn.Dropout(dropout_value)\n",
        "        )\n",
        "\n",
        "        self.convblock5 = nn.Sequential(\n",
        "            nn.Conv2d(in_channels=18, out_channels=12, kernel_size=(3, 3), padding=0, bias=False),\n",
        "            nn.ReLU(),\n",
        "            nn.BatchNorm2d(12),\n",
        "            nn.Dropout(dropout_value)\n",
        "        )\n",
        "\n",
        "        self.convblock6 = nn.Sequential(\n",
        "            nn.Conv2d(in_channels=12, out_channels=12, kernel_size=(3, 3), padding=0, bias=False),\n",
        "            nn.ReLU(),\n",
        "            nn.BatchNorm2d(12),\n",
        "            nn.Dropout(dropout_value)\n",
        "        )\n",
        "\n",
        "\n",
        "        self.gap1 = nn.Sequential(\n",
        "            nn.AvgPool2d(kernel_size =(5,5))\n",
        "        ) # output_size = 1  RF 34\n",
        "        #  # Output BLOCK\n",
        "        self.convblock7 = nn.Sequential(\n",
        "            nn.Conv2d(in_channels=12, out_channels=10, kernel_size=(1, 1), padding=0, bias=False),\n",
        "\n",
        "        )\n",
        "\n",
        "\n",
        "    def forward(self, x):\n",
        "        x = self.convblock1(x)\n",
        "        x = self.convblock2(x)\n",
        "        x = self.convblock3(x)\n",
        "        x = self.pool1(x)\n",
        "        x = self.convblock4(x)\n",
        "        x = self.convblock41(x)\n",
        "        x = self.convblock42(x)\n",
        "        x = self.convblock5(x)\n",
        "        x = self.convblock6(x)\n",
        "        x = self.gap1(x)\n",
        "        x = self.convblock7(x)\n",
        "\n",
        "        x = x.view(-1, 10)\n",
        "        return F.log_softmax(x, dim=-1)"
      ]
    },
    {
      "cell_type": "code",
      "source": [
        "!pip install torchsummary\n",
        "from torchsummary import summary\n",
        "use_cuda = torch.cuda.is_available()\n",
        "device = torch.device(\"cuda\" if use_cuda else \"cpu\")\n",
        "model = MnistCNN().to(device)\n",
        "summary(model, input_size=(1, 28, 28))"
      ],
      "metadata": {
        "colab": {
          "base_uri": "https://localhost:8080/"
        },
        "id": "EsPfRjyyqpic",
        "outputId": "f90833d7-b680-459d-d548-1d2ba2a4990e"
      },
      "execution_count": null,
      "outputs": [
        {
          "output_type": "stream",
          "name": "stdout",
          "text": [
            "Requirement already satisfied: torchsummary in /usr/local/lib/python3.10/dist-packages (1.5.1)\n",
            "----------------------------------------------------------------\n",
            "        Layer (type)               Output Shape         Param #\n",
            "================================================================\n",
            "            Conv2d-1           [-1, 12, 28, 28]             108\n",
            "              ReLU-2           [-1, 12, 28, 28]               0\n",
            "       BatchNorm2d-3           [-1, 12, 28, 28]              24\n",
            "           Dropout-4           [-1, 12, 28, 28]               0\n",
            "            Conv2d-5           [-1, 24, 26, 26]           2,592\n",
            "              ReLU-6           [-1, 24, 26, 26]               0\n",
            "       BatchNorm2d-7           [-1, 24, 26, 26]              48\n",
            "           Dropout-8           [-1, 24, 26, 26]               0\n",
            "            Conv2d-9           [-1, 18, 26, 26]             432\n",
            "             ReLU-10           [-1, 18, 26, 26]               0\n",
            "        MaxPool2d-11           [-1, 18, 13, 13]               0\n",
            "           Conv2d-12           [-1, 24, 13, 13]           3,888\n",
            "             ReLU-13           [-1, 24, 13, 13]               0\n",
            "      BatchNorm2d-14           [-1, 24, 13, 13]              48\n",
            "          Dropout-15           [-1, 24, 13, 13]               0\n",
            "           Conv2d-16           [-1, 24, 11, 11]           5,184\n",
            "             ReLU-17           [-1, 24, 11, 11]               0\n",
            "      BatchNorm2d-18           [-1, 24, 11, 11]              48\n",
            "          Dropout-19           [-1, 24, 11, 11]               0\n",
            "           Conv2d-20             [-1, 18, 9, 9]           3,888\n",
            "             ReLU-21             [-1, 18, 9, 9]               0\n",
            "      BatchNorm2d-22             [-1, 18, 9, 9]              36\n",
            "          Dropout-23             [-1, 18, 9, 9]               0\n",
            "           Conv2d-24             [-1, 12, 7, 7]           1,944\n",
            "             ReLU-25             [-1, 12, 7, 7]               0\n",
            "      BatchNorm2d-26             [-1, 12, 7, 7]              24\n",
            "          Dropout-27             [-1, 12, 7, 7]               0\n",
            "           Conv2d-28             [-1, 12, 5, 5]           1,296\n",
            "             ReLU-29             [-1, 12, 5, 5]               0\n",
            "      BatchNorm2d-30             [-1, 12, 5, 5]              24\n",
            "          Dropout-31             [-1, 12, 5, 5]               0\n",
            "        AvgPool2d-32             [-1, 12, 1, 1]               0\n",
            "           Conv2d-33             [-1, 10, 1, 1]             120\n",
            "================================================================\n",
            "Total params: 19,704\n",
            "Trainable params: 19,704\n",
            "Non-trainable params: 0\n",
            "----------------------------------------------------------------\n",
            "Input size (MB): 0.00\n",
            "Forward/backward pass size (MB): 1.28\n",
            "Params size (MB): 0.08\n",
            "Estimated Total Size (MB): 1.35\n",
            "----------------------------------------------------------------\n"
          ]
        }
      ]
    },
    {
      "cell_type": "code",
      "execution_count": null,
      "metadata": {
        "id": "6PW1NjJWqbik"
      },
      "outputs": [],
      "source": [
        "# Utility functions\n",
        "def save_model(model, accuracy, path=\"models\"):\n",
        "    timestamp = datetime.now().strftime(\"%Y%m%d_%H%M%S\")\n",
        "    filename = f\"mnist_model_{accuracy:.2f}acc_{timestamp}.pth\"\n",
        "    os.makedirs(path, exist_ok=True)\n",
        "    torch.save(model.state_dict(), f\"{path}/{filename}\")\n",
        "    return filename\n",
        "\n",
        "def count_parameters(model):\n",
        "    return sum(p.numel() for p in model.parameters())"
      ]
    },
    {
      "cell_type": "code",
      "execution_count": null,
      "metadata": {
        "id": "4mvCxfktqbil"
      },
      "outputs": [],
      "source": [
        "class TransformDataset:\n",
        "    def __init__(self, dataset, transform):\n",
        "        self.dataset = dataset\n",
        "        self.transform = transform\n",
        "\n",
        "    def __getitem__(self, idx):\n",
        "        data, label = self.dataset[idx]\n",
        "        if self.transform:\n",
        "            data = self.transform(data)\n",
        "        return data, label\n",
        "\n",
        "    def __len__(self):\n",
        "        return len(self.dataset)\n",
        "\n",
        "def train_model(epochs=1, batch_size=8):\n",
        "    # Use CUDA only if available and not in CI environment\n",
        "    device = torch.device('cuda' if torch.cuda.is_available() and not os.getenv('CI') else 'cpu')\n",
        "    print(f\"Using device: {device}\")\n",
        "\n",
        "    # Training transforms with data augmentation\n",
        "    train_transform = transforms.Compose([\n",
        "        transforms.RandomRotation(10),\n",
        "        transforms.RandomAffine(degrees=0, translate=(0.1, 0.1)),\n",
        "        transforms.ColorJitter(brightness=0.10, contrast=0.1, saturation=0.10, hue=0.1),\n",
        "        transforms.ToTensor(),\n",
        "        transforms.Normalize((0.1307,), (0.3081,))\n",
        "    ])\n",
        "\n",
        "    # Validation transforms without augmentation\n",
        "    val_transform = transforms.Compose([\n",
        "        transforms.ToTensor(),\n",
        "        transforms.Normalize((0.1307,), (0.3081,))\n",
        "    ])\n",
        "\n",
        "    # Load dataset\n",
        "    full_dataset = torchvision.datasets.MNIST(root='./data',\n",
        "                                            train=True,\n",
        "                                            transform=None,  # No transform here\n",
        "                                            download=True)\n",
        "\n",
        "    # Split into 50K training and 10K validation\n",
        "    train_size = 50000\n",
        "    val_size = 10000\n",
        "    train_dataset, val_dataset = random_split(full_dataset, [train_size, val_size])\n",
        "\n",
        "    # Apply transforms after splitting\n",
        "    train_dataset = TransformDataset(train_dataset, train_transform)\n",
        "    val_dataset = TransformDataset(val_dataset, val_transform)\n",
        "\n",
        "    train_loader = DataLoader(train_dataset,\n",
        "                            batch_size=batch_size,\n",
        "                            shuffle=True,\n",
        "                            num_workers=0)  # Set to 0 for GitHub Actions\n",
        "\n",
        "    val_loader = DataLoader(val_dataset,\n",
        "                           batch_size=batch_size,\n",
        "                           shuffle=False,\n",
        "                           num_workers=0)\n",
        "\n",
        "    # Initialize model, loss, and optimizer\n",
        "    model = MnistCNN().to(device)\n",
        "    criterion = nn.CrossEntropyLoss()\n",
        "    #criterion = nn.NLLLoss()\n",
        "    optimizer = optim.SGD(model.parameters(), lr=0.015, momentum=0.9)\n",
        "    #optimizer = torch.optim.Adam(model.parameters(), lr=1e-4)\n",
        "\n",
        "    print(f\"Total trainable parameters: {count_parameters(model)}\")\n",
        "\n",
        "    # Training loop\n",
        "    for epoch in range(epochs):\n",
        "        # Training phase\n",
        "        model.train()\n",
        "        train_correct = 0\n",
        "        train_total = 0\n",
        "        train_loss = 0\n",
        "\n",
        "        train_pbar = tqdm(train_loader, desc=f'Epoch {epoch+1}/{epochs} [Train]')\n",
        "        for batch_idx, (data, target) in enumerate(train_pbar):\n",
        "            data, target = data.to(device), target.to(device)\n",
        "            optimizer.zero_grad()\n",
        "\n",
        "            output = model(data)\n",
        "            loss = criterion(output, target)\n",
        "            loss.backward()\n",
        "            optimizer.step()\n",
        "\n",
        "            train_loss += loss.item()\n",
        "            pred = output.argmax(dim=1, keepdim=True)\n",
        "            train_correct += pred.eq(target.view_as(pred)).sum().item()\n",
        "            train_total += target.size(0)\n",
        "\n",
        "            train_pbar.set_postfix({\n",
        "                'loss': f'{train_loss/(batch_idx+1):.4f}',\n",
        "                'acc': f'{100.*train_correct/train_total:.2f}%'\n",
        "            })\n",
        "\n",
        "        # Validation phase\n",
        "        model.eval()\n",
        "        val_correct = 0\n",
        "        val_total = 0\n",
        "        val_loss = 0\n",
        "\n",
        "        with torch.no_grad():\n",
        "            val_pbar = tqdm(val_loader, desc=f'Epoch {epoch+1}/{epochs} [Val]')\n",
        "            for batch_idx, (data, target) in enumerate(val_pbar):\n",
        "                data, target = data.to(device), target.to(device)\n",
        "                output = model(data)\n",
        "                loss = criterion(output, target)\n",
        "\n",
        "                val_loss += loss.item()\n",
        "                pred = output.argmax(dim=1, keepdim=True)\n",
        "                val_correct += pred.eq(target.view_as(pred)).sum().item()\n",
        "                val_total += target.size(0)\n",
        "\n",
        "                val_pbar.set_postfix({\n",
        "                    'loss': f'{val_loss/(batch_idx+1):.4f}',\n",
        "                    'acc': f'{100.*val_correct/val_total:.2f}%'\n",
        "                })\n",
        "\n",
        "        print(f'\\nEpoch {epoch+1}/{epochs}:')\n",
        "        print(f'Train Loss: {train_loss/len(train_loader):.4f}, Train Accuracy: {100.*train_correct/train_total:.2f}%')\n",
        "        print(f'Val Loss: {val_loss/len(val_loader):.4f}, Val Accuracy: {100.*val_correct/val_total:.2f}%\\n')\n",
        "\n",
        "    # Save model\n",
        "    val_accuracy = 100. * val_correct / val_total\n",
        "    model_path = save_model(model, val_accuracy)\n",
        "\n",
        "    return model, val_accuracy, model_path"
      ]
    },
    {
      "cell_type": "code",
      "execution_count": null,
      "metadata": {
        "colab": {
          "base_uri": "https://localhost:8080/"
        },
        "id": "y-t93GWmqbim",
        "outputId": "019c665e-21bb-405e-a572-830530077dfd"
      },
      "outputs": [
        {
          "output_type": "stream",
          "name": "stdout",
          "text": [
            "Using device: cuda\n",
            "Total trainable parameters: 19704\n"
          ]
        },
        {
          "output_type": "stream",
          "name": "stderr",
          "text": [
            "Epoch 1/20 [Train]: 100%|██████████| 391/391 [00:39<00:00,  9.90it/s, loss=0.4761, acc=86.49%]\n",
            "Epoch 1/20 [Val]: 100%|██████████| 79/79 [00:02<00:00, 32.03it/s, loss=0.0734, acc=97.79%]\n"
          ]
        },
        {
          "output_type": "stream",
          "name": "stdout",
          "text": [
            "\n",
            "Epoch 1/20:\n",
            "Train Loss: 0.4761, Train Accuracy: 86.49%\n",
            "Val Loss: 0.0734, Val Accuracy: 97.79%\n",
            "\n"
          ]
        },
        {
          "output_type": "stream",
          "name": "stderr",
          "text": [
            "Epoch 2/20 [Train]: 100%|██████████| 391/391 [00:38<00:00, 10.03it/s, loss=0.1131, acc=96.83%]\n",
            "Epoch 2/20 [Val]: 100%|██████████| 79/79 [00:02<00:00, 32.91it/s, loss=0.0597, acc=98.25%]\n"
          ]
        },
        {
          "output_type": "stream",
          "name": "stdout",
          "text": [
            "\n",
            "Epoch 2/20:\n",
            "Train Loss: 0.1131, Train Accuracy: 96.83%\n",
            "Val Loss: 0.0597, Val Accuracy: 98.25%\n",
            "\n"
          ]
        },
        {
          "output_type": "stream",
          "name": "stderr",
          "text": [
            "Epoch 3/20 [Train]: 100%|██████████| 391/391 [00:38<00:00, 10.07it/s, loss=0.0896, acc=97.31%]\n",
            "Epoch 3/20 [Val]: 100%|██████████| 79/79 [00:03<00:00, 25.21it/s, loss=0.0477, acc=98.65%]\n"
          ]
        },
        {
          "output_type": "stream",
          "name": "stdout",
          "text": [
            "\n",
            "Epoch 3/20:\n",
            "Train Loss: 0.0896, Train Accuracy: 97.31%\n",
            "Val Loss: 0.0477, Val Accuracy: 98.65%\n",
            "\n"
          ]
        },
        {
          "output_type": "stream",
          "name": "stderr",
          "text": [
            "Epoch 4/20 [Train]: 100%|██████████| 391/391 [00:38<00:00, 10.10it/s, loss=0.0764, acc=97.74%]\n",
            "Epoch 4/20 [Val]: 100%|██████████| 79/79 [00:02<00:00, 31.91it/s, loss=0.0391, acc=98.94%]\n"
          ]
        },
        {
          "output_type": "stream",
          "name": "stdout",
          "text": [
            "\n",
            "Epoch 4/20:\n",
            "Train Loss: 0.0764, Train Accuracy: 97.74%\n",
            "Val Loss: 0.0391, Val Accuracy: 98.94%\n",
            "\n"
          ]
        },
        {
          "output_type": "stream",
          "name": "stderr",
          "text": [
            "Epoch 5/20 [Train]: 100%|██████████| 391/391 [00:38<00:00, 10.05it/s, loss=0.0673, acc=97.95%]\n",
            "Epoch 5/20 [Val]: 100%|██████████| 79/79 [00:02<00:00, 32.30it/s, loss=0.0327, acc=98.99%]\n"
          ]
        },
        {
          "output_type": "stream",
          "name": "stdout",
          "text": [
            "\n",
            "Epoch 5/20:\n",
            "Train Loss: 0.0673, Train Accuracy: 97.95%\n",
            "Val Loss: 0.0327, Val Accuracy: 98.99%\n",
            "\n"
          ]
        },
        {
          "output_type": "stream",
          "name": "stderr",
          "text": [
            "Epoch 6/20 [Train]: 100%|██████████| 391/391 [00:39<00:00,  9.91it/s, loss=0.0620, acc=98.15%]\n",
            "Epoch 6/20 [Val]: 100%|██████████| 79/79 [00:03<00:00, 26.27it/s, loss=0.0324, acc=99.05%]\n"
          ]
        },
        {
          "output_type": "stream",
          "name": "stdout",
          "text": [
            "\n",
            "Epoch 6/20:\n",
            "Train Loss: 0.0620, Train Accuracy: 98.15%\n",
            "Val Loss: 0.0324, Val Accuracy: 99.05%\n",
            "\n"
          ]
        },
        {
          "output_type": "stream",
          "name": "stderr",
          "text": [
            "Epoch 7/20 [Train]: 100%|██████████| 391/391 [00:38<00:00, 10.03it/s, loss=0.0582, acc=98.24%]\n",
            "Epoch 7/20 [Val]: 100%|██████████| 79/79 [00:02<00:00, 32.17it/s, loss=0.0295, acc=99.10%]\n"
          ]
        },
        {
          "output_type": "stream",
          "name": "stdout",
          "text": [
            "\n",
            "Epoch 7/20:\n",
            "Train Loss: 0.0582, Train Accuracy: 98.24%\n",
            "Val Loss: 0.0295, Val Accuracy: 99.10%\n",
            "\n"
          ]
        },
        {
          "output_type": "stream",
          "name": "stderr",
          "text": [
            "Epoch 8/20 [Train]: 100%|██████████| 391/391 [00:38<00:00, 10.10it/s, loss=0.0534, acc=98.38%]\n",
            "Epoch 8/20 [Val]: 100%|██████████| 79/79 [00:02<00:00, 32.35it/s, loss=0.0305, acc=99.13%]\n"
          ]
        },
        {
          "output_type": "stream",
          "name": "stdout",
          "text": [
            "\n",
            "Epoch 8/20:\n",
            "Train Loss: 0.0534, Train Accuracy: 98.38%\n",
            "Val Loss: 0.0305, Val Accuracy: 99.13%\n",
            "\n"
          ]
        },
        {
          "output_type": "stream",
          "name": "stderr",
          "text": [
            "Epoch 9/20 [Train]: 100%|██████████| 391/391 [00:39<00:00, 10.02it/s, loss=0.0531, acc=98.36%]\n",
            "Epoch 9/20 [Val]: 100%|██████████| 79/79 [00:02<00:00, 28.15it/s, loss=0.0302, acc=99.04%]\n"
          ]
        },
        {
          "output_type": "stream",
          "name": "stdout",
          "text": [
            "\n",
            "Epoch 9/20:\n",
            "Train Loss: 0.0531, Train Accuracy: 98.36%\n",
            "Val Loss: 0.0302, Val Accuracy: 99.04%\n",
            "\n"
          ]
        },
        {
          "output_type": "stream",
          "name": "stderr",
          "text": [
            "Epoch 10/20 [Train]: 100%|██████████| 391/391 [00:38<00:00, 10.12it/s, loss=0.0500, acc=98.46%]\n",
            "Epoch 10/20 [Val]: 100%|██████████| 79/79 [00:02<00:00, 31.68it/s, loss=0.0273, acc=99.20%]\n"
          ]
        },
        {
          "output_type": "stream",
          "name": "stdout",
          "text": [
            "\n",
            "Epoch 10/20:\n",
            "Train Loss: 0.0500, Train Accuracy: 98.46%\n",
            "Val Loss: 0.0273, Val Accuracy: 99.20%\n",
            "\n"
          ]
        },
        {
          "output_type": "stream",
          "name": "stderr",
          "text": [
            "Epoch 11/20 [Train]: 100%|██████████| 391/391 [00:38<00:00, 10.13it/s, loss=0.0482, acc=98.56%]\n",
            "Epoch 11/20 [Val]: 100%|██████████| 79/79 [00:02<00:00, 32.02it/s, loss=0.0261, acc=99.19%]\n"
          ]
        },
        {
          "output_type": "stream",
          "name": "stdout",
          "text": [
            "\n",
            "Epoch 11/20:\n",
            "Train Loss: 0.0482, Train Accuracy: 98.56%\n",
            "Val Loss: 0.0261, Val Accuracy: 99.19%\n",
            "\n"
          ]
        },
        {
          "output_type": "stream",
          "name": "stderr",
          "text": [
            "Epoch 12/20 [Train]: 100%|██████████| 391/391 [00:39<00:00,  9.99it/s, loss=0.0474, acc=98.65%]\n",
            "Epoch 12/20 [Val]: 100%|██████████| 79/79 [00:02<00:00, 28.88it/s, loss=0.0246, acc=99.26%]\n"
          ]
        },
        {
          "output_type": "stream",
          "name": "stdout",
          "text": [
            "\n",
            "Epoch 12/20:\n",
            "Train Loss: 0.0474, Train Accuracy: 98.65%\n",
            "Val Loss: 0.0246, Val Accuracy: 99.26%\n",
            "\n"
          ]
        },
        {
          "output_type": "stream",
          "name": "stderr",
          "text": [
            "Epoch 13/20 [Train]: 100%|██████████| 391/391 [00:38<00:00, 10.05it/s, loss=0.0463, acc=98.61%]\n",
            "Epoch 13/20 [Val]: 100%|██████████| 79/79 [00:02<00:00, 32.07it/s, loss=0.0257, acc=99.26%]\n"
          ]
        },
        {
          "output_type": "stream",
          "name": "stdout",
          "text": [
            "\n",
            "Epoch 13/20:\n",
            "Train Loss: 0.0463, Train Accuracy: 98.61%\n",
            "Val Loss: 0.0257, Val Accuracy: 99.26%\n",
            "\n"
          ]
        },
        {
          "output_type": "stream",
          "name": "stderr",
          "text": [
            "Epoch 14/20 [Train]: 100%|██████████| 391/391 [00:38<00:00, 10.07it/s, loss=0.0435, acc=98.72%]\n",
            "Epoch 14/20 [Val]: 100%|██████████| 79/79 [00:02<00:00, 32.04it/s, loss=0.0250, acc=99.34%]\n"
          ]
        },
        {
          "output_type": "stream",
          "name": "stdout",
          "text": [
            "\n",
            "Epoch 14/20:\n",
            "Train Loss: 0.0435, Train Accuracy: 98.72%\n",
            "Val Loss: 0.0250, Val Accuracy: 99.34%\n",
            "\n"
          ]
        },
        {
          "output_type": "stream",
          "name": "stderr",
          "text": [
            "Epoch 15/20 [Train]: 100%|██████████| 391/391 [00:39<00:00,  9.96it/s, loss=0.0438, acc=98.65%]\n",
            "Epoch 15/20 [Val]: 100%|██████████| 79/79 [00:02<00:00, 32.52it/s, loss=0.0233, acc=99.27%]\n"
          ]
        },
        {
          "output_type": "stream",
          "name": "stdout",
          "text": [
            "\n",
            "Epoch 15/20:\n",
            "Train Loss: 0.0438, Train Accuracy: 98.65%\n",
            "Val Loss: 0.0233, Val Accuracy: 99.27%\n",
            "\n"
          ]
        },
        {
          "output_type": "stream",
          "name": "stderr",
          "text": [
            "Epoch 16/20 [Train]: 100%|██████████| 391/391 [00:38<00:00, 10.11it/s, loss=0.0406, acc=98.77%]\n",
            "Epoch 16/20 [Val]: 100%|██████████| 79/79 [00:02<00:00, 32.39it/s, loss=0.0216, acc=99.41%]\n"
          ]
        },
        {
          "output_type": "stream",
          "name": "stdout",
          "text": [
            "\n",
            "Epoch 16/20:\n",
            "Train Loss: 0.0406, Train Accuracy: 98.77%\n",
            "Val Loss: 0.0216, Val Accuracy: 99.41%\n",
            "\n"
          ]
        },
        {
          "output_type": "stream",
          "name": "stderr",
          "text": [
            "Epoch 17/20 [Train]: 100%|██████████| 391/391 [00:38<00:00, 10.12it/s, loss=0.0424, acc=98.70%]\n",
            "Epoch 17/20 [Val]: 100%|██████████| 79/79 [00:02<00:00, 31.07it/s, loss=0.0228, acc=99.38%]\n"
          ]
        },
        {
          "output_type": "stream",
          "name": "stdout",
          "text": [
            "\n",
            "Epoch 17/20:\n",
            "Train Loss: 0.0424, Train Accuracy: 98.70%\n",
            "Val Loss: 0.0228, Val Accuracy: 99.38%\n",
            "\n"
          ]
        },
        {
          "output_type": "stream",
          "name": "stderr",
          "text": [
            "Epoch 18/20 [Train]: 100%|██████████| 391/391 [00:39<00:00, 10.02it/s, loss=0.0395, acc=98.78%]\n",
            "Epoch 18/20 [Val]: 100%|██████████| 79/79 [00:02<00:00, 31.67it/s, loss=0.0226, acc=99.28%]\n"
          ]
        },
        {
          "output_type": "stream",
          "name": "stdout",
          "text": [
            "\n",
            "Epoch 18/20:\n",
            "Train Loss: 0.0395, Train Accuracy: 98.78%\n",
            "Val Loss: 0.0226, Val Accuracy: 99.28%\n",
            "\n"
          ]
        },
        {
          "output_type": "stream",
          "name": "stderr",
          "text": [
            "Epoch 19/20 [Train]: 100%|██████████| 391/391 [00:38<00:00, 10.12it/s, loss=0.0416, acc=98.72%]\n",
            "Epoch 19/20 [Val]: 100%|██████████| 79/79 [00:02<00:00, 32.22it/s, loss=0.0241, acc=99.30%]\n"
          ]
        },
        {
          "output_type": "stream",
          "name": "stdout",
          "text": [
            "\n",
            "Epoch 19/20:\n",
            "Train Loss: 0.0416, Train Accuracy: 98.72%\n",
            "Val Loss: 0.0241, Val Accuracy: 99.30%\n",
            "\n"
          ]
        },
        {
          "output_type": "stream",
          "name": "stderr",
          "text": [
            "Epoch 20/20 [Train]: 100%|██████████| 391/391 [00:38<00:00, 10.12it/s, loss=0.0376, acc=98.84%]\n",
            "Epoch 20/20 [Val]: 100%|██████████| 79/79 [00:02<00:00, 31.73it/s, loss=0.0204, acc=99.41%]"
          ]
        },
        {
          "output_type": "stream",
          "name": "stdout",
          "text": [
            "\n",
            "Epoch 20/20:\n",
            "Train Loss: 0.0376, Train Accuracy: 98.84%\n",
            "Val Loss: 0.0204, Val Accuracy: 99.41%\n",
            "\n",
            "Training completed with validation accuracy: 99.41%\n",
            "Model saved as: mnist_model_99.41acc_20241201_131309.pth\n"
          ]
        },
        {
          "output_type": "stream",
          "name": "stderr",
          "text": [
            "\n"
          ]
        }
      ],
      "source": [
        "# Train the model\n",
        "model, accuracy, model_path = train_model(epochs=20, batch_size=128)\n",
        "print(f\"Training completed with validation accuracy: {accuracy:.2f}%\")\n",
        "print(f\"Model saved as: {model_path}\")"
      ]
    },
    {
      "cell_type": "markdown",
      "metadata": {
        "id": "dFMukmqbqbin"
      },
      "source": [
        "## Test Model on Sample Images\n",
        "\n",
        "You can add cells below to test the model on specific images or visualize the results."
      ]
    }
  ],
  "metadata": {
    "accelerator": "GPU",
    "colab": {
      "provenance": []
    },
    "kernelspec": {
      "display_name": "Python 3",
      "language": "python",
      "name": "python3"
    },
    "language_info": {
      "codemirror_mode": {
        "name": "ipython",
        "version": 3
      },
      "file_extension": ".py",
      "mimetype": "text/x-python",
      "name": "python",
      "nbconvert_exporter": "python",
      "pygments_lexer": "ipython3",
      "version": "3.8.0"
    }
  },
  "nbformat": 4,
  "nbformat_minor": 0
}